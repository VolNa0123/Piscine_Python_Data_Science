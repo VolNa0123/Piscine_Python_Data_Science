{
 "cells": [
  {
   "cell_type": "code",
   "execution_count": 1,
   "id": "55b9aebe",
   "metadata": {},
   "outputs": [],
   "source": [
    "import pandas as pd\n",
    "import sqlite3"
   ]
  },
  {
   "cell_type": "markdown",
   "id": "7df9dd14",
   "metadata": {},
   "source": [
    "С помощью sqlite3.connect создадим объект типа Connection"
   ]
  },
  {
   "cell_type": "code",
   "execution_count": 2,
   "id": "70a39453",
   "metadata": {},
   "outputs": [
    {
     "data": {
      "text/plain": [
       "<sqlite3.Connection at 0x11837e210>"
      ]
     },
     "execution_count": 2,
     "metadata": {},
     "output_type": "execute_result"
    }
   ],
   "source": [
    "connect = sqlite3.connect('../data/checking-logs.sqlite')\n",
    "connect"
   ]
  },
  {
   "cell_type": "markdown",
   "id": "f6463e80",
   "metadata": {},
   "source": [
    "Создадим новую таблицу datamart в базе данных, объединив просмотры страниц таблиц и проверку с использованием одного запроса\n",
    "\n",
    "◦ в таблице должны быть следующие столбцы: uid, labname, first_commit_ts, first_view_ts\n",
    "\n",
    "фильтры те же:\n",
    "\n",
    " ∗ status = ’ready’\n",
    "\n",
    " ∗ numTrials = 1\n",
    "\n",
    " ◦ таблица должна содержать только пользователей (uid с user_*), а не администраторов\n",
    "\n",
    " ◦ first_commit_ts и first_view_ts должны быть проанализированы как datetime64[ns]"
   ]
  },
  {
   "cell_type": "code",
   "execution_count": 3,
   "id": "d1852706",
   "metadata": {},
   "outputs": [
    {
     "data": {
      "text/html": [
       "<div>\n",
       "<style scoped>\n",
       "    .dataframe tbody tr th:only-of-type {\n",
       "        vertical-align: middle;\n",
       "    }\n",
       "\n",
       "    .dataframe tbody tr th {\n",
       "        vertical-align: top;\n",
       "    }\n",
       "\n",
       "    .dataframe thead th {\n",
       "        text-align: right;\n",
       "    }\n",
       "</style>\n",
       "<table border=\"1\" class=\"dataframe\">\n",
       "  <thead>\n",
       "    <tr style=\"text-align: right;\">\n",
       "      <th></th>\n",
       "      <th>uid</th>\n",
       "      <th>labname</th>\n",
       "      <th>first_commit_ts</th>\n",
       "      <th>first_view_ts</th>\n",
       "    </tr>\n",
       "  </thead>\n",
       "  <tbody>\n",
       "    <tr>\n",
       "      <th>0</th>\n",
       "      <td>user_4</td>\n",
       "      <td>project1</td>\n",
       "      <td>2020-04-17 05:19:02.744528</td>\n",
       "      <td>NaT</td>\n",
       "    </tr>\n",
       "    <tr>\n",
       "      <th>1</th>\n",
       "      <td>user_4</td>\n",
       "      <td>laba04</td>\n",
       "      <td>2020-04-17 11:33:17.366400</td>\n",
       "      <td>NaT</td>\n",
       "    </tr>\n",
       "    <tr>\n",
       "      <th>2</th>\n",
       "      <td>user_4</td>\n",
       "      <td>laba04s</td>\n",
       "      <td>2020-04-17 11:48:41.992466</td>\n",
       "      <td>NaT</td>\n",
       "    </tr>\n",
       "    <tr>\n",
       "      <th>3</th>\n",
       "      <td>user_17</td>\n",
       "      <td>project1</td>\n",
       "      <td>2020-04-18 07:56:45.408648</td>\n",
       "      <td>2020-04-18 10:56:55.833899</td>\n",
       "    </tr>\n",
       "    <tr>\n",
       "      <th>4</th>\n",
       "      <td>user_30</td>\n",
       "      <td>laba04</td>\n",
       "      <td>2020-04-18 13:36:53.971502</td>\n",
       "      <td>2020-04-17 22:46:26.785035</td>\n",
       "    </tr>\n",
       "    <tr>\n",
       "      <th>...</th>\n",
       "      <td>...</td>\n",
       "      <td>...</td>\n",
       "      <td>...</td>\n",
       "      <td>...</td>\n",
       "    </tr>\n",
       "    <tr>\n",
       "      <th>135</th>\n",
       "      <td>user_23</td>\n",
       "      <td>laba06</td>\n",
       "      <td>2020-05-21 08:34:10.517205</td>\n",
       "      <td>NaT</td>\n",
       "    </tr>\n",
       "    <tr>\n",
       "      <th>136</th>\n",
       "      <td>user_19</td>\n",
       "      <td>laba06s</td>\n",
       "      <td>2020-05-21 13:27:06.705881</td>\n",
       "      <td>2020-04-21 20:30:38.034966</td>\n",
       "    </tr>\n",
       "    <tr>\n",
       "      <th>137</th>\n",
       "      <td>user_23</td>\n",
       "      <td>laba06s</td>\n",
       "      <td>2020-05-21 14:29:15.709568</td>\n",
       "      <td>NaT</td>\n",
       "    </tr>\n",
       "    <tr>\n",
       "      <th>138</th>\n",
       "      <td>user_17</td>\n",
       "      <td>laba06</td>\n",
       "      <td>2020-05-21 15:21:31.567615</td>\n",
       "      <td>2020-04-18 10:56:55.833899</td>\n",
       "    </tr>\n",
       "    <tr>\n",
       "      <th>139</th>\n",
       "      <td>user_17</td>\n",
       "      <td>laba06s</td>\n",
       "      <td>2020-05-21 17:39:17.783615</td>\n",
       "      <td>2020-04-18 10:56:55.833899</td>\n",
       "    </tr>\n",
       "  </tbody>\n",
       "</table>\n",
       "<p>140 rows × 4 columns</p>\n",
       "</div>"
      ],
      "text/plain": [
       "         uid   labname            first_commit_ts              first_view_ts\n",
       "0     user_4  project1 2020-04-17 05:19:02.744528                        NaT\n",
       "1     user_4    laba04 2020-04-17 11:33:17.366400                        NaT\n",
       "2     user_4   laba04s 2020-04-17 11:48:41.992466                        NaT\n",
       "3    user_17  project1 2020-04-18 07:56:45.408648 2020-04-18 10:56:55.833899\n",
       "4    user_30    laba04 2020-04-18 13:36:53.971502 2020-04-17 22:46:26.785035\n",
       "..       ...       ...                        ...                        ...\n",
       "135  user_23    laba06 2020-05-21 08:34:10.517205                        NaT\n",
       "136  user_19   laba06s 2020-05-21 13:27:06.705881 2020-04-21 20:30:38.034966\n",
       "137  user_23   laba06s 2020-05-21 14:29:15.709568                        NaT\n",
       "138  user_17    laba06 2020-05-21 15:21:31.567615 2020-04-18 10:56:55.833899\n",
       "139  user_17   laba06s 2020-05-21 17:39:17.783615 2020-04-18 10:56:55.833899\n",
       "\n",
       "[140 rows x 4 columns]"
      ]
     },
     "execution_count": 3,
     "metadata": {},
     "output_type": "execute_result"
    }
   ],
   "source": [
    "request = '''\n",
    "SELECT checker.uid,\n",
    "       checker.labname,\n",
    "       checker.timestamp AS first_commit_ts,\n",
    "       pageviews.datetime AS first_view_ts\n",
    "FROM checker \n",
    "LEFT JOIN pageviews ON checker.uid=pageviews.uid\n",
    "WHERE status='ready'\n",
    "AND numTrials=1\n",
    "AND labname IN ('laba04', 'laba04s', 'laba05', 'laba06', 'laba06s', 'project1')\n",
    "AND checker.uid LIKE 'user_%'\n",
    "AND (pageviews.datetime = (SELECT MIN(pageviews.datetime)\n",
    "                           FROM pageviews\n",
    "                           WHERE uid=checker.uid)\n",
    "        OR pageviews.datetime IS NULL)\n",
    "'''\n",
    "datamart = pd.io.sql.read_sql(request, connect, parse_dates=[\n",
    "                              'first_commit_ts', 'first_view_ts'])\n",
    "datamart"
   ]
  },
  {
   "cell_type": "markdown",
   "id": "b850cbc0",
   "metadata": {},
   "source": [
    "Создадим два фрейма данных: тестовый и контрольный:\n",
    "\n",
    "у тестового должны быть пользователи, у которых есть значения в first_view_ts\n",
    "\n",
    "у контрольного должны быть пользователи, у которых отсутствуют значения в first_view_ts"
   ]
  },
  {
   "cell_type": "code",
   "execution_count": 4,
   "id": "73ab2b32",
   "metadata": {},
   "outputs": [],
   "source": [
    "test = datamart[datamart['first_view_ts'].notnull()]\n",
    "control = datamart[datamart['first_view_ts'].isnull()]"
   ]
  },
  {
   "cell_type": "markdown",
   "id": "5e740c78",
   "metadata": {},
   "source": [
    "Найдем среднее значения first_view_ts"
   ]
  },
  {
   "cell_type": "code",
   "execution_count": 5,
   "id": "cbac70c0",
   "metadata": {},
   "outputs": [
    {
     "data": {
      "text/plain": [
       "Timestamp('2020-04-27 00:40:05.761783552')"
      ]
     },
     "execution_count": 5,
     "metadata": {},
     "output_type": "execute_result"
    }
   ],
   "source": [
    "replase_arg = test['first_view_ts'].mean()\n",
    "replase_arg"
   ]
  },
  {
   "cell_type": "markdown",
   "id": "0fd96dbb",
   "metadata": {},
   "source": [
    "Заменим недостающие значения на средние"
   ]
  },
  {
   "cell_type": "code",
   "execution_count": 6,
   "id": "5a7a21c1",
   "metadata": {},
   "outputs": [],
   "source": [
    "control = control.fillna(test['first_view_ts'].mean())"
   ]
  },
  {
   "cell_type": "markdown",
   "id": "00ad0d30",
   "metadata": {},
   "source": [
    "Сохраним обе таблицы в базе данных"
   ]
  },
  {
   "cell_type": "code",
   "execution_count": 7,
   "id": "47e695ef",
   "metadata": {},
   "outputs": [
    {
     "ename": "ValueError",
     "evalue": "Table 'test' already exists.",
     "output_type": "error",
     "traceback": [
      "\u001b[0;31m---------------------------------------------------------------------------\u001b[0m",
      "\u001b[0;31mValueError\u001b[0m                                Traceback (most recent call last)",
      "Cell \u001b[0;32mIn [7], line 1\u001b[0m\n\u001b[0;32m----> 1\u001b[0m \u001b[43mtest\u001b[49m\u001b[38;5;241;43m.\u001b[39;49m\u001b[43mto_sql\u001b[49m\u001b[43m(\u001b[49m\u001b[38;5;124;43m'\u001b[39;49m\u001b[38;5;124;43mtest\u001b[39;49m\u001b[38;5;124;43m'\u001b[39;49m\u001b[43m,\u001b[49m\u001b[43m \u001b[49m\u001b[43mconnect\u001b[49m\u001b[43m)\u001b[49m\n\u001b[1;32m      2\u001b[0m control\u001b[38;5;241m.\u001b[39mto_sql(\u001b[38;5;124m'\u001b[39m\u001b[38;5;124mcontrol\u001b[39m\u001b[38;5;124m'\u001b[39m, connect)\n",
      "File \u001b[0;32m~/Piscine_Python_Data_Science/mcherrie/lib/python3.9/site-packages/pandas/core/generic.py:2986\u001b[0m, in \u001b[0;36mNDFrame.to_sql\u001b[0;34m(self, name, con, schema, if_exists, index, index_label, chunksize, dtype, method)\u001b[0m\n\u001b[1;32m   <a href='file:///Users/mcherrie/Piscine_Python_Data_Science/mcherrie/lib/python3.9/site-packages/pandas/core/generic.py?line=2828'>2829</a>\u001b[0m \u001b[39m\"\"\"\u001b[39;00m\n\u001b[1;32m   <a href='file:///Users/mcherrie/Piscine_Python_Data_Science/mcherrie/lib/python3.9/site-packages/pandas/core/generic.py?line=2829'>2830</a>\u001b[0m \u001b[39mWrite records stored in a DataFrame to a SQL database.\u001b[39;00m\n\u001b[1;32m   <a href='file:///Users/mcherrie/Piscine_Python_Data_Science/mcherrie/lib/python3.9/site-packages/pandas/core/generic.py?line=2830'>2831</a>\u001b[0m \n\u001b[0;32m   (...)\u001b[0m\n\u001b[1;32m   <a href='file:///Users/mcherrie/Piscine_Python_Data_Science/mcherrie/lib/python3.9/site-packages/pandas/core/generic.py?line=2981'>2982</a>\u001b[0m \u001b[39m[(1,), (None,), (2,)]\u001b[39;00m\n\u001b[1;32m   <a href='file:///Users/mcherrie/Piscine_Python_Data_Science/mcherrie/lib/python3.9/site-packages/pandas/core/generic.py?line=2982'>2983</a>\u001b[0m \u001b[39m\"\"\"\u001b[39;00m  \u001b[39m# noqa:E501\u001b[39;00m\n\u001b[1;32m   <a href='file:///Users/mcherrie/Piscine_Python_Data_Science/mcherrie/lib/python3.9/site-packages/pandas/core/generic.py?line=2983'>2984</a>\u001b[0m \u001b[39mfrom\u001b[39;00m \u001b[39mpandas\u001b[39;00m\u001b[39m.\u001b[39;00m\u001b[39mio\u001b[39;00m \u001b[39mimport\u001b[39;00m sql\n\u001b[0;32m-> <a href='file:///Users/mcherrie/Piscine_Python_Data_Science/mcherrie/lib/python3.9/site-packages/pandas/core/generic.py?line=2985'>2986</a>\u001b[0m \u001b[39mreturn\u001b[39;00m sql\u001b[39m.\u001b[39;49mto_sql(\n\u001b[1;32m   <a href='file:///Users/mcherrie/Piscine_Python_Data_Science/mcherrie/lib/python3.9/site-packages/pandas/core/generic.py?line=2986'>2987</a>\u001b[0m     \u001b[39mself\u001b[39;49m,\n\u001b[1;32m   <a href='file:///Users/mcherrie/Piscine_Python_Data_Science/mcherrie/lib/python3.9/site-packages/pandas/core/generic.py?line=2987'>2988</a>\u001b[0m     name,\n\u001b[1;32m   <a href='file:///Users/mcherrie/Piscine_Python_Data_Science/mcherrie/lib/python3.9/site-packages/pandas/core/generic.py?line=2988'>2989</a>\u001b[0m     con,\n\u001b[1;32m   <a href='file:///Users/mcherrie/Piscine_Python_Data_Science/mcherrie/lib/python3.9/site-packages/pandas/core/generic.py?line=2989'>2990</a>\u001b[0m     schema\u001b[39m=\u001b[39;49mschema,\n\u001b[1;32m   <a href='file:///Users/mcherrie/Piscine_Python_Data_Science/mcherrie/lib/python3.9/site-packages/pandas/core/generic.py?line=2990'>2991</a>\u001b[0m     if_exists\u001b[39m=\u001b[39;49mif_exists,\n\u001b[1;32m   <a href='file:///Users/mcherrie/Piscine_Python_Data_Science/mcherrie/lib/python3.9/site-packages/pandas/core/generic.py?line=2991'>2992</a>\u001b[0m     index\u001b[39m=\u001b[39;49mindex,\n\u001b[1;32m   <a href='file:///Users/mcherrie/Piscine_Python_Data_Science/mcherrie/lib/python3.9/site-packages/pandas/core/generic.py?line=2992'>2993</a>\u001b[0m     index_label\u001b[39m=\u001b[39;49mindex_label,\n\u001b[1;32m   <a href='file:///Users/mcherrie/Piscine_Python_Data_Science/mcherrie/lib/python3.9/site-packages/pandas/core/generic.py?line=2993'>2994</a>\u001b[0m     chunksize\u001b[39m=\u001b[39;49mchunksize,\n\u001b[1;32m   <a href='file:///Users/mcherrie/Piscine_Python_Data_Science/mcherrie/lib/python3.9/site-packages/pandas/core/generic.py?line=2994'>2995</a>\u001b[0m     dtype\u001b[39m=\u001b[39;49mdtype,\n\u001b[1;32m   <a href='file:///Users/mcherrie/Piscine_Python_Data_Science/mcherrie/lib/python3.9/site-packages/pandas/core/generic.py?line=2995'>2996</a>\u001b[0m     method\u001b[39m=\u001b[39;49mmethod,\n\u001b[1;32m   <a href='file:///Users/mcherrie/Piscine_Python_Data_Science/mcherrie/lib/python3.9/site-packages/pandas/core/generic.py?line=2996'>2997</a>\u001b[0m )\n",
      "File \u001b[0;32m~/Piscine_Python_Data_Science/mcherrie/lib/python3.9/site-packages/pandas/io/sql.py:696\u001b[0m, in \u001b[0;36mto_sql\u001b[0;34m(frame, name, con, schema, if_exists, index, index_label, chunksize, dtype, method, engine, **engine_kwargs)\u001b[0m\n\u001b[1;32m    <a href='file:///Users/mcherrie/Piscine_Python_Data_Science/mcherrie/lib/python3.9/site-packages/pandas/io/sql.py?line=690'>691</a>\u001b[0m \u001b[39melif\u001b[39;00m \u001b[39mnot\u001b[39;00m \u001b[39misinstance\u001b[39m(frame, DataFrame):\n\u001b[1;32m    <a href='file:///Users/mcherrie/Piscine_Python_Data_Science/mcherrie/lib/python3.9/site-packages/pandas/io/sql.py?line=691'>692</a>\u001b[0m     \u001b[39mraise\u001b[39;00m \u001b[39mNotImplementedError\u001b[39;00m(\n\u001b[1;32m    <a href='file:///Users/mcherrie/Piscine_Python_Data_Science/mcherrie/lib/python3.9/site-packages/pandas/io/sql.py?line=692'>693</a>\u001b[0m         \u001b[39m\"\u001b[39m\u001b[39m'\u001b[39m\u001b[39mframe\u001b[39m\u001b[39m'\u001b[39m\u001b[39m argument should be either a Series or a DataFrame\u001b[39m\u001b[39m\"\u001b[39m\n\u001b[1;32m    <a href='file:///Users/mcherrie/Piscine_Python_Data_Science/mcherrie/lib/python3.9/site-packages/pandas/io/sql.py?line=693'>694</a>\u001b[0m     )\n\u001b[0;32m--> <a href='file:///Users/mcherrie/Piscine_Python_Data_Science/mcherrie/lib/python3.9/site-packages/pandas/io/sql.py?line=695'>696</a>\u001b[0m \u001b[39mreturn\u001b[39;00m pandas_sql\u001b[39m.\u001b[39;49mto_sql(\n\u001b[1;32m    <a href='file:///Users/mcherrie/Piscine_Python_Data_Science/mcherrie/lib/python3.9/site-packages/pandas/io/sql.py?line=696'>697</a>\u001b[0m     frame,\n\u001b[1;32m    <a href='file:///Users/mcherrie/Piscine_Python_Data_Science/mcherrie/lib/python3.9/site-packages/pandas/io/sql.py?line=697'>698</a>\u001b[0m     name,\n\u001b[1;32m    <a href='file:///Users/mcherrie/Piscine_Python_Data_Science/mcherrie/lib/python3.9/site-packages/pandas/io/sql.py?line=698'>699</a>\u001b[0m     if_exists\u001b[39m=\u001b[39;49mif_exists,\n\u001b[1;32m    <a href='file:///Users/mcherrie/Piscine_Python_Data_Science/mcherrie/lib/python3.9/site-packages/pandas/io/sql.py?line=699'>700</a>\u001b[0m     index\u001b[39m=\u001b[39;49mindex,\n\u001b[1;32m    <a href='file:///Users/mcherrie/Piscine_Python_Data_Science/mcherrie/lib/python3.9/site-packages/pandas/io/sql.py?line=700'>701</a>\u001b[0m     index_label\u001b[39m=\u001b[39;49mindex_label,\n\u001b[1;32m    <a href='file:///Users/mcherrie/Piscine_Python_Data_Science/mcherrie/lib/python3.9/site-packages/pandas/io/sql.py?line=701'>702</a>\u001b[0m     schema\u001b[39m=\u001b[39;49mschema,\n\u001b[1;32m    <a href='file:///Users/mcherrie/Piscine_Python_Data_Science/mcherrie/lib/python3.9/site-packages/pandas/io/sql.py?line=702'>703</a>\u001b[0m     chunksize\u001b[39m=\u001b[39;49mchunksize,\n\u001b[1;32m    <a href='file:///Users/mcherrie/Piscine_Python_Data_Science/mcherrie/lib/python3.9/site-packages/pandas/io/sql.py?line=703'>704</a>\u001b[0m     dtype\u001b[39m=\u001b[39;49mdtype,\n\u001b[1;32m    <a href='file:///Users/mcherrie/Piscine_Python_Data_Science/mcherrie/lib/python3.9/site-packages/pandas/io/sql.py?line=704'>705</a>\u001b[0m     method\u001b[39m=\u001b[39;49mmethod,\n\u001b[1;32m    <a href='file:///Users/mcherrie/Piscine_Python_Data_Science/mcherrie/lib/python3.9/site-packages/pandas/io/sql.py?line=705'>706</a>\u001b[0m     engine\u001b[39m=\u001b[39;49mengine,\n\u001b[1;32m    <a href='file:///Users/mcherrie/Piscine_Python_Data_Science/mcherrie/lib/python3.9/site-packages/pandas/io/sql.py?line=706'>707</a>\u001b[0m     \u001b[39m*\u001b[39;49m\u001b[39m*\u001b[39;49mengine_kwargs,\n\u001b[1;32m    <a href='file:///Users/mcherrie/Piscine_Python_Data_Science/mcherrie/lib/python3.9/site-packages/pandas/io/sql.py?line=707'>708</a>\u001b[0m )\n",
      "File \u001b[0;32m~/Piscine_Python_Data_Science/mcherrie/lib/python3.9/site-packages/pandas/io/sql.py:2188\u001b[0m, in \u001b[0;36mSQLiteDatabase.to_sql\u001b[0;34m(self, frame, name, if_exists, index, index_label, schema, chunksize, dtype, method, **kwargs)\u001b[0m\n\u001b[1;32m   <a href='file:///Users/mcherrie/Piscine_Python_Data_Science/mcherrie/lib/python3.9/site-packages/pandas/io/sql.py?line=2176'>2177</a>\u001b[0m             \u001b[39mraise\u001b[39;00m \u001b[39mValueError\u001b[39;00m(\u001b[39mf\u001b[39m\u001b[39m\"\u001b[39m\u001b[39m{\u001b[39;00mcol\u001b[39m}\u001b[39;00m\u001b[39m (\u001b[39m\u001b[39m{\u001b[39;00mmy_type\u001b[39m}\u001b[39;00m\u001b[39m) not a string\u001b[39m\u001b[39m\"\u001b[39m)\n\u001b[1;32m   <a href='file:///Users/mcherrie/Piscine_Python_Data_Science/mcherrie/lib/python3.9/site-packages/pandas/io/sql.py?line=2178'>2179</a>\u001b[0m table \u001b[39m=\u001b[39m SQLiteTable(\n\u001b[1;32m   <a href='file:///Users/mcherrie/Piscine_Python_Data_Science/mcherrie/lib/python3.9/site-packages/pandas/io/sql.py?line=2179'>2180</a>\u001b[0m     name,\n\u001b[1;32m   <a href='file:///Users/mcherrie/Piscine_Python_Data_Science/mcherrie/lib/python3.9/site-packages/pandas/io/sql.py?line=2180'>2181</a>\u001b[0m     \u001b[39mself\u001b[39m,\n\u001b[0;32m   (...)\u001b[0m\n\u001b[1;32m   <a href='file:///Users/mcherrie/Piscine_Python_Data_Science/mcherrie/lib/python3.9/site-packages/pandas/io/sql.py?line=2185'>2186</a>\u001b[0m     dtype\u001b[39m=\u001b[39mdtype,\n\u001b[1;32m   <a href='file:///Users/mcherrie/Piscine_Python_Data_Science/mcherrie/lib/python3.9/site-packages/pandas/io/sql.py?line=2186'>2187</a>\u001b[0m )\n\u001b[0;32m-> <a href='file:///Users/mcherrie/Piscine_Python_Data_Science/mcherrie/lib/python3.9/site-packages/pandas/io/sql.py?line=2187'>2188</a>\u001b[0m table\u001b[39m.\u001b[39;49mcreate()\n\u001b[1;32m   <a href='file:///Users/mcherrie/Piscine_Python_Data_Science/mcherrie/lib/python3.9/site-packages/pandas/io/sql.py?line=2188'>2189</a>\u001b[0m \u001b[39mreturn\u001b[39;00m table\u001b[39m.\u001b[39minsert(chunksize, method)\n",
      "File \u001b[0;32m~/Piscine_Python_Data_Science/mcherrie/lib/python3.9/site-packages/pandas/io/sql.py:830\u001b[0m, in \u001b[0;36mSQLTable.create\u001b[0;34m(self)\u001b[0m\n\u001b[1;32m    <a href='file:///Users/mcherrie/Piscine_Python_Data_Science/mcherrie/lib/python3.9/site-packages/pandas/io/sql.py?line=827'>828</a>\u001b[0m \u001b[39mif\u001b[39;00m \u001b[39mself\u001b[39m\u001b[39m.\u001b[39mexists():\n\u001b[1;32m    <a href='file:///Users/mcherrie/Piscine_Python_Data_Science/mcherrie/lib/python3.9/site-packages/pandas/io/sql.py?line=828'>829</a>\u001b[0m     \u001b[39mif\u001b[39;00m \u001b[39mself\u001b[39m\u001b[39m.\u001b[39mif_exists \u001b[39m==\u001b[39m \u001b[39m\"\u001b[39m\u001b[39mfail\u001b[39m\u001b[39m\"\u001b[39m:\n\u001b[0;32m--> <a href='file:///Users/mcherrie/Piscine_Python_Data_Science/mcherrie/lib/python3.9/site-packages/pandas/io/sql.py?line=829'>830</a>\u001b[0m         \u001b[39mraise\u001b[39;00m \u001b[39mValueError\u001b[39;00m(\u001b[39mf\u001b[39m\u001b[39m\"\u001b[39m\u001b[39mTable \u001b[39m\u001b[39m'\u001b[39m\u001b[39m{\u001b[39;00m\u001b[39mself\u001b[39m\u001b[39m.\u001b[39mname\u001b[39m}\u001b[39;00m\u001b[39m'\u001b[39m\u001b[39m already exists.\u001b[39m\u001b[39m\"\u001b[39m)\n\u001b[1;32m    <a href='file:///Users/mcherrie/Piscine_Python_Data_Science/mcherrie/lib/python3.9/site-packages/pandas/io/sql.py?line=830'>831</a>\u001b[0m     \u001b[39melif\u001b[39;00m \u001b[39mself\u001b[39m\u001b[39m.\u001b[39mif_exists \u001b[39m==\u001b[39m \u001b[39m\"\u001b[39m\u001b[39mreplace\u001b[39m\u001b[39m\"\u001b[39m:\n\u001b[1;32m    <a href='file:///Users/mcherrie/Piscine_Python_Data_Science/mcherrie/lib/python3.9/site-packages/pandas/io/sql.py?line=831'>832</a>\u001b[0m         \u001b[39mself\u001b[39m\u001b[39m.\u001b[39mpd_sql\u001b[39m.\u001b[39mdrop_table(\u001b[39mself\u001b[39m\u001b[39m.\u001b[39mname, \u001b[39mself\u001b[39m\u001b[39m.\u001b[39mschema)\n",
      "\u001b[0;31mValueError\u001b[0m: Table 'test' already exists."
     ]
    }
   ],
   "source": [
    "test.to_sql('test', connect)\n",
    "control.to_sql('control', connect)"
   ]
  },
  {
   "cell_type": "markdown",
   "id": "c68f6f1f",
   "metadata": {},
   "source": [
    "Закроем соединение с базой данных"
   ]
  },
  {
   "cell_type": "code",
   "execution_count": 8,
   "id": "3ae6f079",
   "metadata": {},
   "outputs": [],
   "source": [
    "connect.close()"
   ]
  }
 ],
 "metadata": {
  "kernelspec": {
   "display_name": "Python 3 (ipykernel)",
   "language": "python",
   "name": "python3"
  },
  "language_info": {
   "codemirror_mode": {
    "name": "ipython",
    "version": 3
   },
   "file_extension": ".py",
   "mimetype": "text/x-python",
   "name": "python",
   "nbconvert_exporter": "python",
   "pygments_lexer": "ipython3",
   "version": "3.9.10"
  }
 },
 "nbformat": 4,
 "nbformat_minor": 5
}
